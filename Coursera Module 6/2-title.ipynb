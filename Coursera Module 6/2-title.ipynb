{
 "cells": [
  {
   "cell_type": "markdown",
   "id": "6a5b4f32-03ab-49a9-9c13-dd8b2eb03d79",
   "metadata": {
    "editable": true,
    "slideshow": {
     "slide_type": "slide"
    },
    "tags": []
   },
   "source": [
    "# **Data Science Notebook**\n",
    "\n",
    "Welcome to Data Scirnce Notebook"
   ]
  }
 ],
 "metadata": {
  "kernelspec": {
   "display_name": "Python 3 (ipykernel)",
   "language": "python",
   "name": "python3"
  },
  "language_info": {
   "codemirror_mode": {
    "name": "ipython",
    "version": 3
   },
   "file_extension": ".py",
   "mimetype": "text/x-python",
   "name": "python",
   "nbconvert_exporter": "python",
   "pygments_lexer": "ipython3",
   "version": "3.12.8"
  },
  "toc": {
   "base_numbering": 9
  }
 },
 "nbformat": 4,
 "nbformat_minor": 5
}

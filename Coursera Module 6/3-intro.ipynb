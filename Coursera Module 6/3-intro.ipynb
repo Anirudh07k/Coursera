{
 "cells": [
  {
   "cell_type": "markdown",
   "id": "ec48f7e3-607e-4f10-92af-01be2b20a6c2",
   "metadata": {},
   "source": [
    "# **Anirudh Kapoor**\n",
    "\n",
    "Name : Anirudh Kapoor\n",
    "Email : Anirudh@xyz.com\n",
    "Date : 7th October 2025"
   ]
  }
 ],
 "metadata": {
  "kernelspec": {
   "display_name": "Python 3 (ipykernel)",
   "language": "python",
   "name": "python3"
  },
  "language_info": {
   "codemirror_mode": {
    "name": "ipython",
    "version": 3
   },
   "file_extension": ".py",
   "mimetype": "text/x-python",
   "name": "python",
   "nbconvert_exporter": "python",
   "pygments_lexer": "ipython3",
   "version": "3.12.8"
  }
 },
 "nbformat": 4,
 "nbformat_minor": 5
}

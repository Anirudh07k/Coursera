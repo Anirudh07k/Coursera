{
 "cells": [
  {
   "cell_type": "markdown",
   "id": "a00c7580-52f2-4563-88e5-60edfd17df85",
   "metadata": {},
   "source": [
    "# Data Science\n",
    "\n",
    "Data Science involves various Tools and techniques some are :<br>\n",
    "Data Collection<br>\n",
    "Data Cleaning<br>\n",
    "Data Analysis<br>\n",
    "Data Visualization<br>\n",
    "Machine Learning<br>"
   ]
  }
 ],
 "metadata": {
  "kernelspec": {
   "display_name": "Python 3 (ipykernel)",
   "language": "python",
   "name": "python3"
  },
  "language_info": {
   "codemirror_mode": {
    "name": "ipython",
    "version": 3
   },
   "file_extension": ".py",
   "mimetype": "text/x-python",
   "name": "python",
   "nbconvert_exporter": "python",
   "pygments_lexer": "ipython3",
   "version": "3.12.8"
  }
 },
 "nbformat": 4,
 "nbformat_minor": 5
}

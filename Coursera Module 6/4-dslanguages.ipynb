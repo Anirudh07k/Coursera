{
 "cells": [
  {
   "cell_type": "markdown",
   "id": "75f171e5-4556-4d1c-80d9-7a06f73da277",
   "metadata": {},
   "source": [
    "# Data Science Notebook\n",
    "\n",
    "Some common Data science Languages are:\n",
    "Python\n",
    "R\n",
    "Sql\n",
    "Scala\n",
    "Java"
   ]
  },
  {
   "cell_type": "code",
   "execution_count": null,
   "id": "a4393768-73b7-43dd-9781-eb0698be7145",
   "metadata": {},
   "outputs": [],
   "source": []
  }
 ],
 "metadata": {
  "kernelspec": {
   "display_name": "Python 3 (ipykernel)",
   "language": "python",
   "name": "python3"
  },
  "language_info": {
   "codemirror_mode": {
    "name": "ipython",
    "version": 3
   },
   "file_extension": ".py",
   "mimetype": "text/x-python",
   "name": "python",
   "nbconvert_exporter": "python",
   "pygments_lexer": "ipython3",
   "version": "3.12.8"
  }
 },
 "nbformat": 4,
 "nbformat_minor": 5
}

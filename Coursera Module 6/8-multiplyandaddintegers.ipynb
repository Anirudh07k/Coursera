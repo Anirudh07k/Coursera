{
 "cells": [
  {
   "cell_type": "code",
   "execution_count": 2,
   "id": "abcdefc3-2018-405f-ba88-c8f9262aa0b1",
   "metadata": {},
   "outputs": [
    {
     "name": "stdout",
     "output_type": "stream",
     "text": [
      "15\n",
      "10\n"
     ]
    }
   ],
   "source": [
    "\n",
    "# Multiply and Add numbers in Python\n",
    "\n",
    "# Define numbers\n",
    "num1 = 5\n",
    "num2 = 3\n",
    "num3 = 2\n",
    "\n",
    "# Perform Multiplication\n",
    "mul_result = num1 * num2\n",
    "print(mul_result)\n",
    "\n",
    "# Perform Addition\n",
    "add_result = num1 + num2 + num3\n",
    "print(add_result)"
   ]
  }
 ],
 "metadata": {
  "kernelspec": {
   "display_name": "Python 3 (ipykernel)",
   "language": "python",
   "name": "python3"
  },
  "language_info": {
   "codemirror_mode": {
    "name": "ipython",
    "version": 3
   },
   "file_extension": ".py",
   "mimetype": "text/x-python",
   "name": "python",
   "nbconvert_exporter": "python",
   "pygments_lexer": "ipython3",
   "version": "3.12.8"
  }
 },
 "nbformat": 4,
 "nbformat_minor": 5
}

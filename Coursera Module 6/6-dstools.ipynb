{
 "cells": [
  {
   "cell_type": "markdown",
   "id": "ce0c4aa0-f9e7-46e9-a4a9-8d9fba462adc",
   "metadata": {},
   "source": [
    "# Data Science Tools\n",
    "\n",
    "Some common tools that are used :\n",
    "Jupyter\n",
    "RStudio\n",
    "Apache\n",
    "Hadoop\n",
    "TensorFlow\n",
    "Tableeu"
   ]
  }
 ],
 "metadata": {
  "kernelspec": {
   "display_name": "Python 3 (ipykernel)",
   "language": "python",
   "name": "python3"
  },
  "language_info": {
   "codemirror_mode": {
    "name": "ipython",
    "version": 3
   },
   "file_extension": ".py",
   "mimetype": "text/x-python",
   "name": "python",
   "nbconvert_exporter": "python",
   "pygments_lexer": "ipython3",
   "version": "3.12.8"
  }
 },
 "nbformat": 4,
 "nbformat_minor": 5
}
